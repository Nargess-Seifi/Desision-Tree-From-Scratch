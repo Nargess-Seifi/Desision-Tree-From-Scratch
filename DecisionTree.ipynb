{
 "cells": [
  {
   "cell_type": "code",
   "execution_count": 1,
   "metadata": {},
   "outputs": [],
   "source": [
    "import math\n",
    "import numpy as np\n",
    "import pandas as pd\n",
    "import seaborn as sns\n",
    "from collections import deque\n",
    "import matplotlib.pyplot as plt\n",
    "from sklearn.metrics import mean_squared_error\n",
    "from sklearn.preprocessing import LabelEncoder\n",
    "from sklearn.model_selection import train_test_split\n",
    "from sklearn.metrics import accuracy_score, precision_score"
   ]
  },
  {
   "cell_type": "code",
   "execution_count": 6,
   "metadata": {},
   "outputs": [],
   "source": [
    "def entropy(data): #S = a list of + , -\n",
    "    value_counts = {}\n",
    "    for value in data:\n",
    "        if value in value_counts:\n",
    "            value_counts[value] += 1\n",
    "        else:\n",
    "            value_counts[value] = 1\n",
    "\n",
    "    probabilities = [count / len(data) for count in value_counts.values()]\n",
    "\n",
    "    entropy = 0\n",
    "    for probability in probabilities:\n",
    "        entropy -= probability * math.log2(probability)\n",
    "\n",
    "    return entropy\n",
    "\n",
    "def maxGain(df, gainState):\n",
    "    if gainState == \"Ent\":\n",
    "        originalEntropy = entropy(df.iloc[:,-1])\n",
    "        gains = {}\n",
    "        features = df.columns[:-1].tolist()\n",
    "        for feature in features:\n",
    "            splitEntropy = 0\n",
    "            for value in df[feature].unique():\n",
    "                subset = df[df[feature] == value].iloc[:,-1]\n",
    "                splitEntropy += len(subset) / len(df) * entropy(subset)\n",
    "            gains[feature] = originalEntropy - splitEntropy\n",
    "\n",
    "        max_gain_feature = max(gains, key=gains.get)\n",
    "        max_gain = gains[max_gain_feature]\n",
    "\n",
    "        return max_gain_feature, max_gain\n",
    "    \n",
    "    elif gainState == \"Gini\":\n",
    "        originalGini = gini_index(df.iloc[:,-1])\n",
    "        gains = {}\n",
    "        features = df.columns[:-1].tolist()\n",
    "        for feature in features:\n",
    "            splitGini = 0\n",
    "            for value in df[feature].unique():\n",
    "                subset = df[df[feature] == value].iloc[:,-1]\n",
    "                splitGini += len(subset) / len(df) * gini_index(subset)\n",
    "            gains[feature] = originalGini - splitGini\n",
    "\n",
    "        max_gain_feature = max(gains, key=gains.get)\n",
    "        max_gain = gains[max_gain_feature]\n",
    "\n",
    "        return max_gain_feature, max_gain\n",
    "\n",
    "    else:\n",
    "        return None\n",
    "\n",
    "def gini_index(series):\n",
    "    class_counts = series.value_counts()\n",
    "    class_probabilities = class_counts / len(series)\n",
    "    gini = 1 - np.sum(class_probabilities ** 2)\n",
    "    return gini"
   ]
  },
  {
   "cell_type": "code",
   "execution_count": 7,
   "metadata": {},
   "outputs": [],
   "source": [
    "class Node:\n",
    "    staticId = 0\n",
    "\n",
    "    def __init__(self, splitFeature = None, children = None, leafValue = None, majorityValue = None):\n",
    "        self.splitFeature = splitFeature\n",
    "        self.children = children\n",
    "        self.id = Node.staticId\n",
    "        Node.staticId+=1\n",
    "        self.leafValue = leafValue\n",
    "        self.majorityValue = majorityValue\n"
   ]
  },
  {
   "cell_type": "code",
   "execution_count": 8,
   "metadata": {},
   "outputs": [],
   "source": [
    "class DecisionTree:\n",
    "    def __init__(self, maxDepth = 20, minSample = 2, threshold = 0.05, gainState = \"Ent\"):\n",
    "        self.root = None\n",
    "        self.maxDepth = maxDepth\n",
    "        self.minSample = minSample\n",
    "        self.threshold = threshold\n",
    "        self.gainState = gainState\n",
    "    \n",
    "    def fit(self, data):\n",
    "        self.root = self.build(data, 0)\n",
    "\n",
    "    def build(self, data, currentDepth):\n",
    "        X = data.iloc[:, :-1]\n",
    "        y = data.iloc[:, -1]\n",
    "        n, m = X.shape\n",
    "\n",
    "        label_counts = data.iloc[:,-1].value_counts()\n",
    "        max_occuring_value = label_counts.idxmax()\n",
    "\n",
    "        if currentDepth < self.maxDepth and n > self.minSample:       \n",
    "            children = []\n",
    "            max_gain_feature, max_gain = maxGain(data, self.gainState)\n",
    "            if max_gain>self.threshold:\n",
    "                for value in data[max_gain_feature].unique():\n",
    "                    newData = data[data[max_gain_feature]==value]\n",
    "                    if newData.shape[0]<=0:\n",
    "                        continue\n",
    "                    child = self.build(newData, currentDepth+1)\n",
    "                    children.append([value,child])\n",
    "                return Node(max_gain_feature, children, majorityValue = max_occuring_value)\n",
    "        \n",
    "        #leafe node\n",
    "        return Node(leafValue=max_occuring_value)\n",
    "    \n",
    "    def printTree(self):\n",
    "        self.print(self.root, 0, None)\n",
    "        \n",
    "    def print(self, node, depth, edge):\n",
    "        indent = '  ' * depth\n",
    "        print(indent + f\"ID: {node.id}, Feature: {node.splitFeature}, Edge: {edge}, Value: {node.leafValue}\")\n",
    "        if not node.children is None:\n",
    "            for child in node.children:\n",
    "                self.print(child[1], depth+1, child[0])\n",
    "    \n",
    "\n",
    "\n",
    "    def predict(self, data):\n",
    "        result_list = data.apply(self.predRow, axis=1)\n",
    "        return result_list\n",
    "    \n",
    "    def predRow(self, row):\n",
    "        node = self.root\n",
    "        while node.leafValue is None:\n",
    "            flag = False\n",
    "            for [value, child] in node.children:\n",
    "                if value == row[node.splitFeature]:\n",
    "                    node = child\n",
    "                    flag = True\n",
    "                    break\n",
    "            if not flag:\n",
    "                return node.majorityValue\n",
    "        return node.leafValue"
   ]
  },
  {
   "cell_type": "code",
   "execution_count": 9,
   "metadata": {},
   "outputs": [],
   "source": [
    "dataset = [\n",
    "    {\"Outlook\": \"Sunny\", \"Temperature\": \"Hot\", \"Humidity\": \"High\", \"PlayTennis\": \"No\"},\n",
    "    {\"Outlook\": \"Sunny\", \"Temperature\": \"Hot\", \"Humidity\": \"High\", \"PlayTennis\": \"No\"},\n",
    "    {\"Outlook\": \"Overcast\", \"Temperature\": \"Hot\", \"Humidity\": \"High\", \"PlayTennis\": \"Yes\"},\n",
    "    {\"Outlook\": \"Rainy\", \"Temperature\": \"Mild\", \"Humidity\": \"High\", \"PlayTennis\": \"Yes\"},\n",
    "    {\"Outlook\": \"Rainy\", \"Temperature\": \"Cool\", \"Humidity\": \"Normal\", \"PlayTennis\": \"Yes\"},\n",
    "    {\"Outlook\": \"Rainy\", \"Temperature\": \"Cool\", \"Humidity\": \"Normal\", \"PlayTennis\": \"No\"},\n",
    "    {\"Outlook\": \"Overcast\", \"Temperature\": \"Cool\", \"Humidity\": \"Normal\", \"PlayTennis\": \"Yes\"},\n",
    "    {\"Outlook\": \"Sunny\", \"Temperature\": \"Mild\", \"Humidity\": \"High\", \"PlayTennis\": \"No\"},\n",
    "    {\"Outlook\": \"Sunny\", \"Temperature\": \"Cool\", \"Humidity\": \"Normal\", \"PlayTennis\": \"Yes\"},\n",
    "    {\"Outlook\": \"Rainy\", \"Temperature\": \"Mild\", \"Humidity\": \"Normal\", \"PlayTennis\": \"Yes\"},\n",
    "    {\"Outlook\": \"Sunny\", \"Temperature\": \"Mild\", \"Humidity\": \"Normal\", \"PlayTennis\": \"Yes\"},\n",
    "    {\"Outlook\": \"Overcast\", \"Temperature\": \"Mild\", \"Humidity\": \"High\", \"PlayTennis\": \"Yes\"},\n",
    "    {\"Outlook\": \"Overcast\", \"Temperature\": \"Hot\", \"Humidity\": \"Normal\", \"PlayTennis\": \"Yes\"},\n",
    "    {\"Outlook\": \"Rainy\", \"Temperature\": \"Mild\", \"Humidity\": \"High\", \"PlayTennis\": \"No\"}\n",
    "]\n",
    "\n",
    "df = pd.DataFrame(dataset)\n",
    "model = DecisionTree()\n",
    "model.fit(df)"
   ]
  },
  {
   "cell_type": "code",
   "execution_count": 10,
   "metadata": {},
   "outputs": [
    {
     "name": "stdout",
     "output_type": "stream",
     "text": [
      "ID: 5, Feature: Outlook, Edge: None, Value: None\n",
      "  ID: 2, Feature: Humidity, Edge: Sunny, Value: None\n",
      "    ID: 0, Feature: None, Edge: High, Value: No\n",
      "    ID: 1, Feature: None, Edge: Normal, Value: Yes\n",
      "  ID: 3, Feature: None, Edge: Overcast, Value: Yes\n",
      "  ID: 4, Feature: None, Edge: Rainy, Value: Yes\n"
     ]
    }
   ],
   "source": [
    "model.printTree()"
   ]
  },
  {
   "cell_type": "code",
   "execution_count": 113,
   "metadata": {},
   "outputs": [
    {
     "data": {
      "text/plain": [
       "0.2"
      ]
     },
     "execution_count": 113,
     "metadata": {},
     "output_type": "execute_result"
    }
   ],
   "source": [
    "test = [{\"Outlook\": \"Rainy\", \"Temperature\": \"Cool\", \"Humidity\": \"Normal\", \"PlayTennis\": \"Yes\"},\n",
    "    {\"Outlook\": \"Rainy\", \"Temperature\": \"Cool\", \"Humidity\": \"Normal\", \"PlayTennis\": \"No\"},\n",
    "    {\"Outlook\": \"Overcast\", \"Temperature\": \"Cool\", \"Humidity\": \"Normal\", \"PlayTennis\": \"Yes\"},\n",
    "    {\"Outlook\": \"Sunny\", \"Temperature\": \"Mild\", \"Humidity\": \"High\", \"PlayTennis\": \"No\"},\n",
    "    {\"Outlook\": \"Sunny\", \"Temperature\": \"Cool\", \"Humidity\": \"Normal\", \"PlayTennis\": \"Yes\"}]\n",
    "\n",
    "testdf = pd.DataFrame(test)\n",
    "testdfx = testdf.iloc[:,:-1]\n",
    "testdfy = testdf.iloc[:,-1]\n",
    "y_pred = model.predict(testdfx)\n",
    "\n",
    "label_encoder = LabelEncoder()\n",
    "# Fit label encoder and transform string labels to numerical values\n",
    "y_true = label_encoder.fit_transform(testdfy)\n",
    "y_pred = label_encoder.transform(y_pred)\n",
    "\n",
    "mean_squared_error(y_true, y_pred)"
   ]
  },
  {
   "cell_type": "code",
   "execution_count": 114,
   "metadata": {},
   "outputs": [
    {
     "data": {
      "text/html": [
       "<div>\n",
       "<style scoped>\n",
       "    .dataframe tbody tr th:only-of-type {\n",
       "        vertical-align: middle;\n",
       "    }\n",
       "\n",
       "    .dataframe tbody tr th {\n",
       "        vertical-align: top;\n",
       "    }\n",
       "\n",
       "    .dataframe thead th {\n",
       "        text-align: right;\n",
       "    }\n",
       "</style>\n",
       "<table border=\"1\" class=\"dataframe\">\n",
       "  <thead>\n",
       "    <tr style=\"text-align: right;\">\n",
       "      <th></th>\n",
       "      <th>age</th>\n",
       "      <th>job</th>\n",
       "      <th>marital</th>\n",
       "      <th>education</th>\n",
       "      <th>balance</th>\n",
       "      <th>housing</th>\n",
       "      <th>loan</th>\n",
       "      <th>day</th>\n",
       "      <th>month</th>\n",
       "      <th>duration</th>\n",
       "      <th>campaign</th>\n",
       "      <th>previous</th>\n",
       "      <th>y</th>\n",
       "    </tr>\n",
       "  </thead>\n",
       "  <tbody>\n",
       "    <tr>\n",
       "      <th>0</th>\n",
       "      <td>[30,45]</td>\n",
       "      <td>technician</td>\n",
       "      <td>single</td>\n",
       "      <td>secondary</td>\n",
       "      <td>underMean</td>\n",
       "      <td>yes</td>\n",
       "      <td>no</td>\n",
       "      <td>low</td>\n",
       "      <td>may</td>\n",
       "      <td>one</td>\n",
       "      <td>1</td>\n",
       "      <td>0</td>\n",
       "      <td>0</td>\n",
       "    </tr>\n",
       "    <tr>\n",
       "      <th>1</th>\n",
       "      <td>[30,45]</td>\n",
       "      <td>admin</td>\n",
       "      <td>married</td>\n",
       "      <td>secondary</td>\n",
       "      <td>underMean</td>\n",
       "      <td>yes</td>\n",
       "      <td>yes</td>\n",
       "      <td>low</td>\n",
       "      <td>may</td>\n",
       "      <td>one</td>\n",
       "      <td>1</td>\n",
       "      <td>0</td>\n",
       "      <td>0</td>\n",
       "    </tr>\n",
       "    <tr>\n",
       "      <th>2</th>\n",
       "      <td>45&lt;</td>\n",
       "      <td>services</td>\n",
       "      <td>married</td>\n",
       "      <td>unknown</td>\n",
       "      <td>aboveMean</td>\n",
       "      <td>yes</td>\n",
       "      <td>no</td>\n",
       "      <td>low</td>\n",
       "      <td>may</td>\n",
       "      <td>one</td>\n",
       "      <td>1</td>\n",
       "      <td>0</td>\n",
       "      <td>0</td>\n",
       "    </tr>\n",
       "    <tr>\n",
       "      <th>3</th>\n",
       "      <td>[30,45]</td>\n",
       "      <td>unemployed</td>\n",
       "      <td>single</td>\n",
       "      <td>unknown</td>\n",
       "      <td>underMean</td>\n",
       "      <td>no</td>\n",
       "      <td>no</td>\n",
       "      <td>low</td>\n",
       "      <td>may</td>\n",
       "      <td>one</td>\n",
       "      <td>1</td>\n",
       "      <td>0</td>\n",
       "      <td>0</td>\n",
       "    </tr>\n",
       "    <tr>\n",
       "      <th>4</th>\n",
       "      <td>[30,45]</td>\n",
       "      <td>admin</td>\n",
       "      <td>married</td>\n",
       "      <td>tertiary</td>\n",
       "      <td>underMean</td>\n",
       "      <td>yes</td>\n",
       "      <td>no</td>\n",
       "      <td>low</td>\n",
       "      <td>may</td>\n",
       "      <td>one</td>\n",
       "      <td>1</td>\n",
       "      <td>0</td>\n",
       "      <td>0</td>\n",
       "    </tr>\n",
       "  </tbody>\n",
       "</table>\n",
       "</div>"
      ],
      "text/plain": [
       "       age         job  marital  education    balance housing loan  day month  \\\n",
       "0  [30,45]  technician   single  secondary  underMean     yes   no  low   may   \n",
       "1  [30,45]       admin  married  secondary  underMean     yes  yes  low   may   \n",
       "2      45<    services  married    unknown  aboveMean     yes   no  low   may   \n",
       "3  [30,45]  unemployed   single    unknown  underMean      no   no  low   may   \n",
       "4  [30,45]       admin  married   tertiary  underMean     yes   no  low   may   \n",
       "\n",
       "  duration  campaign  previous  y  \n",
       "0      one         1         0  0  \n",
       "1      one         1         0  0  \n",
       "2      one         1         0  0  \n",
       "3      one         1         0  0  \n",
       "4      one         1         0  0  "
      ]
     },
     "execution_count": 114,
     "metadata": {},
     "output_type": "execute_result"
    }
   ],
   "source": [
    "df = pd.read_csv(\"preprocessedData.csv\")\n",
    "df.head()"
   ]
  },
  {
   "cell_type": "code",
   "execution_count": 115,
   "metadata": {},
   "outputs": [],
   "source": [
    "Train, Test = train_test_split(df, test_size=0.25, random_state=42)"
   ]
  },
  {
   "cell_type": "code",
   "execution_count": 116,
   "metadata": {},
   "outputs": [],
   "source": [
    "model = DecisionTree(maxDepth = 5, minSample=100, gainState = \"Ent\")\n",
    "model.fit(Train)"
   ]
  },
  {
   "cell_type": "code",
   "execution_count": 117,
   "metadata": {},
   "outputs": [
    {
     "name": "stdout",
     "output_type": "stream",
     "text": [
      "ID: 39, Feature: duration, Edge: None, Value: None\n",
      "  ID: 36, Feature: month, Edge: one, Value: None\n",
      "    ID: 6, Feature: None, Edge: feb, Value: 0\n",
      "    ID: 9, Feature: previous, Edge: jun, Value: None\n",
      "      ID: 7, Feature: None, Edge: 0, Value: 0\n",
      "      ID: 8, Feature: None, Edge: 1, Value: 0\n",
      "    ID: 12, Feature: previous, Edge: aug, Value: None\n",
      "      ID: 10, Feature: None, Edge: 0, Value: 0\n",
      "      ID: 11, Feature: None, Edge: 1, Value: 0\n",
      "    ID: 15, Feature: housing, Edge: apr, Value: None\n",
      "      ID: 13, Feature: None, Edge: yes, Value: 0\n",
      "      ID: 14, Feature: None, Edge: no, Value: 0\n",
      "    ID: 16, Feature: None, Edge: may, Value: 0\n",
      "    ID: 19, Feature: day, Edge: nov, Value: None\n",
      "      ID: 17, Feature: None, Edge: high, Value: 0\n",
      "      ID: 18, Feature: None, Edge: low, Value: 0\n",
      "    ID: 20, Feature: None, Edge: jul, Value: 0\n",
      "    ID: 23, Feature: day, Edge: jan, Value: None\n",
      "      ID: 21, Feature: None, Edge: high, Value: 0\n",
      "      ID: 22, Feature: None, Edge: low, Value: 0\n",
      "    ID: 24, Feature: None, Edge: sep, Value: 0\n",
      "    ID: 33, Feature: campaign, Edge: dec, Value: None\n",
      "      ID: 25, Feature: None, Edge: 5, Value: 0\n",
      "      ID: 26, Feature: None, Edge: 1, Value: 0\n",
      "      ID: 27, Feature: None, Edge: 2, Value: 0\n",
      "      ID: 28, Feature: None, Edge: 3, Value: 1\n",
      "      ID: 29, Feature: None, Edge: 4, Value: 0\n",
      "      ID: 30, Feature: None, Edge: 8, Value: 0\n",
      "      ID: 31, Feature: None, Edge: 6, Value: 0\n",
      "      ID: 32, Feature: None, Edge: 7, Value: 1\n",
      "    ID: 34, Feature: None, Edge: mar, Value: 0\n",
      "    ID: 35, Feature: None, Edge: oct, Value: 0\n",
      "  ID: 37, Feature: None, Edge: two, Value: 0\n",
      "  ID: 38, Feature: None, Edge: three, Value: 1\n"
     ]
    }
   ],
   "source": [
    "model.printTree()"
   ]
  },
  {
   "cell_type": "code",
   "execution_count": 118,
   "metadata": {},
   "outputs": [],
   "source": [
    "TestX, TestY = Test.iloc[:, :-1], Test.iloc[:,-1]\n",
    "y_pred = model.predict(TestX)"
   ]
  },
  {
   "cell_type": "code",
   "execution_count": 119,
   "metadata": {},
   "outputs": [
    {
     "name": "stdout",
     "output_type": "stream",
     "text": [
      "0.8879745155295992 0.5241691842900302\n"
     ]
    }
   ],
   "source": [
    "print(accuracy_score(TestY, y_pred), precision_score(TestY, y_pred))"
   ]
  },
  {
   "cell_type": "code",
   "execution_count": 120,
   "metadata": {},
   "outputs": [
    {
     "name": "stdout",
     "output_type": "stream",
     "text": [
      "0.8915140253074949 0.5417633410672854\n"
     ]
    }
   ],
   "source": [
    "model2 = DecisionTree(maxDepth = 5, minSample=100, gainState = \"Gini\", threshold = 0.02)\n",
    "model2.fit(Train)\n",
    "y_pred = model2.predict(TestX)\n",
    "print(accuracy_score(TestY, y_pred), precision_score(TestY, y_pred))"
   ]
  }
 ],
 "metadata": {
  "kernelspec": {
   "display_name": "Python 3",
   "language": "python",
   "name": "python3"
  },
  "language_info": {
   "codemirror_mode": {
    "name": "ipython",
    "version": 3
   },
   "file_extension": ".py",
   "mimetype": "text/x-python",
   "name": "python",
   "nbconvert_exporter": "python",
   "pygments_lexer": "ipython3",
   "version": "3.11.3"
  }
 },
 "nbformat": 4,
 "nbformat_minor": 2
}
